{
 "cells": [
  {
   "cell_type": "code",
   "execution_count": 50,
   "metadata": {},
   "outputs": [],
   "source": [
    "# ImageNet-1k Evaluation\n",
    "\n",
    "            # Top-1 Accuracy\n",
    "            # Top-5 Accuracy\n",
    "            # Precision\n",
    "            # Recall\n",
    "            # F1-Score\n",
    "            # Mean Average Precision (mAP)"
   ]
  },
  {
   "cell_type": "code",
   "execution_count": 16,
   "metadata": {},
   "outputs": [
    {
     "data": {
      "text/plain": [
       "EvaluationModule(name: \"trec_eval\", module_type: \"metric\", features: {'predictions': {'query': Sequence(feature=Value(dtype='int64', id=None), length=-1, id=None), 'q0': Sequence(feature=Value(dtype='string', id=None), length=-1, id=None), 'docid': Sequence(feature=Value(dtype='string', id=None), length=-1, id=None), 'rank': Sequence(feature=Value(dtype='int64', id=None), length=-1, id=None), 'score': Sequence(feature=Value(dtype='float32', id=None), length=-1, id=None), 'system': Sequence(feature=Value(dtype='string', id=None), length=-1, id=None)}, 'references': {'query': Sequence(feature=Value(dtype='int64', id=None), length=-1, id=None), 'q0': Sequence(feature=Value(dtype='string', id=None), length=-1, id=None), 'docid': Sequence(feature=Value(dtype='string', id=None), length=-1, id=None), 'rel': Sequence(feature=Value(dtype='int64', id=None), length=-1, id=None)}}, usage: \"\"\"\n",
       "Calculates TREC evaluation scores based on a run and qrel.\n",
       "Args:\n",
       "    predictions: list containing a single run.\n",
       "    references: list containing a single qrel.\n",
       "Returns:\n",
       "    dict: TREC evaluation scores.\n",
       "Examples:\n",
       "    >>> trec = evaluate.load(\"trec_eval\")\n",
       "    >>> qrel = {\n",
       "    ...     \"query\": [0],\n",
       "    ...     \"q0\": [\"0\"],\n",
       "    ...     \"docid\": [\"doc_1\"],\n",
       "    ...     \"rel\": [2]\n",
       "    ... }\n",
       "    >>> run = {\n",
       "    ...     \"query\": [0, 0],\n",
       "    ...     \"q0\": [\"q0\", \"q0\"],\n",
       "    ...     \"docid\": [\"doc_2\", \"doc_1\"],\n",
       "    ...     \"rank\": [0, 1],\n",
       "    ...     \"score\": [1.5, 1.2],\n",
       "    ...     \"system\": [\"test\", \"test\"]\n",
       "    ... }\n",
       "    >>> results = trec.compute(references=[qrel], predictions=[run])\n",
       "    >>> print(results[\"P@5\"])\n",
       "    0.2\n",
       "\"\"\", stored examples: 0)"
      ]
     },
     "execution_count": 16,
     "metadata": {},
     "output_type": "execute_result"
    }
   ],
   "source": [
    "from evaluate import load\n",
    "\n",
    "metrics_ = load('trec_eval')\n",
    "metrics_"
   ]
  },
  {
   "cell_type": "code",
   "execution_count": 4,
   "metadata": {},
   "outputs": [
    {
     "name": "stdout",
     "output_type": "stream",
     "text": [
      "{'accuracy': 0.6666666666666666}\n"
     ]
    }
   ],
   "source": [
    "####### Top-1 Accuracy\n",
    "\n",
    "import numpy as np\n",
    "import evaluate\n",
    "\n",
    "accuracyk = evaluate.load(\"KevinSpaghetti/accuracyk\")\n",
    "\n",
    "predictions = np.array([\n",
    "    [3],\n",
    "    [4],\n",
    "    [1],\n",
    "])\n",
    "\n",
    "references = np.array([3, 4, 0])\n",
    "\n",
    "results = accuracyk.compute(predictions=predictions, references=references)\n",
    "print(results)\n"
   ]
  },
  {
   "cell_type": "code",
   "execution_count": 5,
   "metadata": {},
   "outputs": [
    {
     "name": "stdout",
     "output_type": "stream",
     "text": [
      "{'accuracy': 0.6666666666666666}\n"
     ]
    }
   ],
   "source": [
    "####### Top-5 Accuracy\n",
    "\n",
    "\n",
    "import numpy as np\n",
    "import evaluate\n",
    "\n",
    "accuracyk = evaluate.load(\"KevinSpaghetti/accuracyk\")\n",
    "\n",
    "predictions = np.array([\n",
    "    [0, 7, 1, 3, 5],\n",
    "    [0, 2, 9, 8, 4],\n",
    "    [8, 4, 1, 2, 3],\n",
    "])\n",
    "references = np.array([3, 4, 0])\n",
    "\n",
    "results = accuracyk.compute(predictions=predictions, references=references)\n",
    "print(results)"
   ]
  },
  {
   "cell_type": "code",
   "execution_count": 49,
   "metadata": {},
   "outputs": [
    {
     "name": "stdout",
     "output_type": "stream",
     "text": [
      "[[1 4 3]\n",
      " [2 3 4]\n",
      " [0 1 4]]\n"
     ]
    }
   ],
   "source": [
    "#### get top 3 (say top 5) from full row of 5 elements (say 1000)\n",
    "\n",
    "import numpy as np\n",
    "\n",
    "predictions = np.array([\n",
    "    [0.         , 0.30434783, 0.04347826, 0.13043478, 0.2173913 ],\n",
    "    [0.         , 0.09090909, 0.40909091, 0.36363636, 0.18181818],\n",
    "    [0.61538462, 0.30769231, 0.07692308, 0.07692308, 0.15384615]\n",
    "])\n",
    "\n",
    "# Get the indices of the top 3 maximum values in each row\n",
    "top3_indices = np.argsort(-predictions, axis=1)[:, :3] # descending order\n",
    "\n",
    "\n",
    "print(top3_indices)\n"
   ]
  },
  {
   "cell_type": "code",
   "execution_count": 39,
   "metadata": {},
   "outputs": [
    {
     "name": "stdout",
     "output_type": "stream",
     "text": [
      "{'precision': array([1., 0., 0., 1., 1.])}\n",
      "[1, 0, 0, 1, 1]\n",
      "label 0:\tprecision_accumulate = 1.0\tcount_accumulate = 1\n",
      "label 1:\tprecision_accumulate = 0.0\tcount_accumulate = 0\n",
      "label 2:\tprecision_accumulate = 0.0\tcount_accumulate = 0\n",
      "label 3:\tprecision_accumulate = 1.0\tcount_accumulate = 1\n",
      "label 4:\tprecision_accumulate = 1.0\tcount_accumulate = 1\n",
      "{'precision': 0.0}\n",
      "{'precision': 0.0}\n",
      "{'precision': 1.0}\n"
     ]
    }
   ],
   "source": [
    "####### Precision\n",
    "\n",
    "import numpy as np\n",
    "import evaluate\n",
    "\n",
    "metric = evaluate.load(\"precision\")\n",
    "\n",
    "predictions = np.array([\n",
    "    [0, 7, 1, 3, 5],\n",
    "    [0, 2, 9, 8, 4],\n",
    "    [8, 4, 1, 1, 3],\n",
    "])\n",
    "references = np.array([3, 4, 0])\n",
    "\n",
    "results = metric.compute(predictions=predictions.argmax(axis=1), references=references,\n",
    "                         pos_label=1, average=None, zero_division=1, labels = [0,1,2,3,4])\n",
    "print(results)\n",
    "\n",
    "labels = [0, 1, 2, 3, 4]\n",
    "\n",
    "counts = [np.count_nonzero(references == label) for label in labels]\n",
    "\n",
    "print(counts)\n",
    "\n",
    "for i in labels:\n",
    "    print(f\"label {i}:\\tprecision_accumulate = {results['precision'][i]* counts[i]}\\tcount_accumulate = {counts[i]}\")\n",
    "\n",
    "for i in range(predictions.shape[0]):\n",
    "    results = metric.compute(predictions=predictions[i:i+1, :].argmax(axis=1), references=references[i:i+1],\n",
    "                            pos_label=1, average=\"weighted\", zero_division=0, labels = [0,1,2,3,4])\n",
    "    print(results)"
   ]
  },
  {
   "cell_type": "code",
   "execution_count": 40,
   "metadata": {},
   "outputs": [
    {
     "name": "stdout",
     "output_type": "stream",
     "text": [
      "{'precision': array([1., 1., 0., 1., 1.])}\n",
      "[2, 0, 0, 1, 1]\n",
      "label 0:\tprecision_accumulate = 2.0\tcount_accumulate = 2\n",
      "label 1:\tprecision_accumulate = 0.0\tcount_accumulate = 0\n",
      "label 2:\tprecision_accumulate = 0.0\tcount_accumulate = 0\n",
      "label 3:\tprecision_accumulate = 1.0\tcount_accumulate = 1\n",
      "label 4:\tprecision_accumulate = 1.0\tcount_accumulate = 1\n"
     ]
    }
   ],
   "source": [
    "### COUNT\n",
    "\n",
    "import numpy as np\n",
    "import evaluate\n",
    "\n",
    "metric = evaluate.load(\"precision\")\n",
    "\n",
    "predictions = np.array([3, 2, 0, 0])\n",
    "references = np.array([3, 4, 0, 0])\n",
    "labels = [0, 1, 2, 3, 4]\n",
    "\n",
    "results = metric.compute(predictions=predictions, references=references,\n",
    "                         pos_label=1, average=None, zero_division=1, labels = [0,1,2,3,4])\n",
    "print(results)\n",
    "\n",
    "labels = [0, 1, 2, 3, 4]\n",
    "\n",
    "counts = [np.count_nonzero(references == label) for label in labels]\n",
    "\n",
    "print(counts)\n",
    "\n",
    "for i in labels:\n",
    "    print(f\"label {i}:\\tprecision_accumulate = {results['precision'][i]* counts[i]}\\tcount_accumulate = {counts[i]}\")\n",
    "\n",
    "\n"
   ]
  },
  {
   "cell_type": "code",
   "execution_count": 41,
   "metadata": {},
   "outputs": [
    {
     "name": "stdout",
     "output_type": "stream",
     "text": [
      "{'recall': array([1., 1., 1., 0., 0.])}\n",
      "[1, 0, 0, 1, 1]\n",
      "label 0:\trecall_accumulate = 1.0\tcount_accumulate = 1\n",
      "label 1:\trecall_accumulate = 0.0\tcount_accumulate = 0\n",
      "label 2:\trecall_accumulate = 0.0\tcount_accumulate = 0\n",
      "label 3:\trecall_accumulate = 0.0\tcount_accumulate = 1\n",
      "label 4:\trecall_accumulate = 0.0\tcount_accumulate = 1\n",
      "{'recall': 0.0}\n",
      "{'recall': 0.0}\n",
      "{'recall': 1.0}\n"
     ]
    }
   ],
   "source": [
    "\n",
    "####### Recall\n",
    "\n",
    "\n",
    "import numpy as np\n",
    "import evaluate\n",
    "\n",
    "metric = evaluate.load(\"recall\")\n",
    "\n",
    "predictions = np.array([\n",
    "    [0, 7, 1, 3, 5],\n",
    "    [0, 2, 9, 8, 4],\n",
    "    [8, 4, 1, 1, 3],\n",
    "])\n",
    "references = np.array([3, 4, 0])\n",
    "\n",
    "results = metric.compute(predictions=predictions.argmax(axis=1), references=references,\n",
    "                         pos_label=1, average=None, zero_division=1, labels = [0,1,2,3,4])\n",
    "print(results)\n",
    "\n",
    "labels = [0, 1, 2, 3, 4]\n",
    "\n",
    "counts = [np.count_nonzero(references == label) for label in labels]\n",
    "\n",
    "print(counts)\n",
    "\n",
    "for i in labels:\n",
    "    print(f\"label {i}:\\trecall_accumulate = {results['recall'][i]* counts[i]}\\tcount_accumulate = {counts[i]}\")\n",
    "\n",
    "for i in range(predictions.shape[0]):\n",
    "    results = metric.compute(predictions=predictions[i:i+1, :].argmax(axis=1), references=references[i:i+1],\n",
    "                            pos_label=1, average=\"weighted\", zero_division=0, labels = [0,1,2,3,4])\n",
    "    print(results)\n"
   ]
  },
  {
   "cell_type": "code",
   "execution_count": 45,
   "metadata": {},
   "outputs": [
    {
     "name": "stdout",
     "output_type": "stream",
     "text": [
      "{'f1': array([1., 0., 0., 0., 0.])}\n",
      "[1, 0, 0, 1, 1]\n",
      "label 0:\tf1_accumulate = 1.0\tcount_accumulate = 1\n",
      "label 1:\tf1_accumulate = 0.0\tcount_accumulate = 0\n",
      "label 2:\tf1_accumulate = 0.0\tcount_accumulate = 0\n",
      "label 3:\tf1_accumulate = 0.0\tcount_accumulate = 1\n",
      "label 4:\tf1_accumulate = 0.0\tcount_accumulate = 1\n"
     ]
    },
    {
     "name": "stderr",
     "output_type": "stream",
     "text": [
      "/media/toma/2TB_30May2023/OBJECT_DETECTION_L/object_detection/.venv/lib/python3.9/site-packages/sklearn/metrics/_classification.py:1609: UndefinedMetricWarning: F-score is ill-defined and being set to 0.0 in labels with no true nor predicted samples. Use `zero_division` parameter to control this behavior.\n",
      "  _warn_prf(average, \"true nor predicted\", \"F-score is\", len(true_sum))\n"
     ]
    },
    {
     "name": "stdout",
     "output_type": "stream",
     "text": [
      "{'f1': array([0., 0., 0., 0., 0.])}\n"
     ]
    },
    {
     "name": "stderr",
     "output_type": "stream",
     "text": [
      "/media/toma/2TB_30May2023/OBJECT_DETECTION_L/object_detection/.venv/lib/python3.9/site-packages/sklearn/metrics/_classification.py:1609: UndefinedMetricWarning: F-score is ill-defined and being set to 0.0 in labels with no true nor predicted samples. Use `zero_division` parameter to control this behavior.\n",
      "  _warn_prf(average, \"true nor predicted\", \"F-score is\", len(true_sum))\n"
     ]
    },
    {
     "name": "stdout",
     "output_type": "stream",
     "text": [
      "{'f1': array([0., 0., 0., 0., 0.])}\n",
      "{'f1': array([1., 0., 0., 0., 0.])}\n"
     ]
    },
    {
     "name": "stderr",
     "output_type": "stream",
     "text": [
      "/media/toma/2TB_30May2023/OBJECT_DETECTION_L/object_detection/.venv/lib/python3.9/site-packages/sklearn/metrics/_classification.py:1609: UndefinedMetricWarning: F-score is ill-defined and being set to 0.0 in labels with no true nor predicted samples. Use `zero_division` parameter to control this behavior.\n",
      "  _warn_prf(average, \"true nor predicted\", \"F-score is\", len(true_sum))\n"
     ]
    }
   ],
   "source": [
    "\n",
    "####### F1-Score\n",
    "\n",
    "import numpy as np\n",
    "import evaluate\n",
    "\n",
    "metric = evaluate.load(\"f1\")\n",
    "\n",
    "predictions = np.array([\n",
    "    [0, 7, 1, 3, 5],\n",
    "    [0, 2, 9, 8, 4],\n",
    "    [8, 4, 1, 1, 3],\n",
    "])\n",
    "references = np.array([3, 4, 0])\n",
    "\n",
    "results = metric.compute(predictions=predictions.argmax(axis=1), references=references,\n",
    "                         pos_label=1, average=None, labels = [0,1,2,3,4])\n",
    "print(results)\n",
    "\n",
    "labels = [0, 1, 2, 3, 4]\n",
    "\n",
    "counts = [np.count_nonzero(references == label) for label in labels]\n",
    "\n",
    "print(counts)\n",
    "\n",
    "for i in labels:\n",
    "    print(f\"label {i}:\\tf1_accumulate = {results['f1'][i]* counts[i]}\\tcount_accumulate = {counts[i]}\")\n",
    "\n",
    "for i in range(predictions.shape[0]):\n",
    "    results = metric.compute(predictions=predictions[i:i+1, :].argmax(axis=1), references=references[i:i+1],\n",
    "                            pos_label=1, average=None, labels = [0,1,2,3,4])\n",
    "    print(results)\n"
   ]
  },
  {
   "cell_type": "code",
   "execution_count": null,
   "metadata": {},
   "outputs": [],
   "source": []
  },
  {
   "cell_type": "code",
   "execution_count": null,
   "metadata": {},
   "outputs": [],
   "source": []
  },
  {
   "cell_type": "code",
   "execution_count": 41,
   "metadata": {},
   "outputs": [
    {
     "name": "stdout",
     "output_type": "stream",
     "text": [
      "class 0: 1.0\n",
      "class 1: 1.0\n",
      "class 2: -0.0\n",
      "class 3: -0.0\n",
      "class 4: 1.0\n",
      "class 5: -0.0\n",
      "class 6: -0.0\n",
      "class 7: -0.0\n",
      "class 8: 1.0\n",
      "class 9: -0.0\n",
      "0.4\n"
     ]
    },
    {
     "name": "stderr",
     "output_type": "stream",
     "text": [
      "/media/toma/2TB_30May2023/OBJECT_DETECTION_L/object_detection/.venv/lib/python3.9/site-packages/sklearn/metrics/_ranking.py:891: UserWarning: No positive class found in y_true, recall is set to one for all thresholds.\n",
      "  warnings.warn(\n",
      "/media/toma/2TB_30May2023/OBJECT_DETECTION_L/object_detection/.venv/lib/python3.9/site-packages/sklearn/metrics/_ranking.py:891: UserWarning: No positive class found in y_true, recall is set to one for all thresholds.\n",
      "  warnings.warn(\n",
      "/media/toma/2TB_30May2023/OBJECT_DETECTION_L/object_detection/.venv/lib/python3.9/site-packages/sklearn/metrics/_ranking.py:891: UserWarning: No positive class found in y_true, recall is set to one for all thresholds.\n",
      "  warnings.warn(\n",
      "/media/toma/2TB_30May2023/OBJECT_DETECTION_L/object_detection/.venv/lib/python3.9/site-packages/sklearn/metrics/_ranking.py:891: UserWarning: No positive class found in y_true, recall is set to one for all thresholds.\n",
      "  warnings.warn(\n",
      "/media/toma/2TB_30May2023/OBJECT_DETECTION_L/object_detection/.venv/lib/python3.9/site-packages/sklearn/metrics/_ranking.py:891: UserWarning: No positive class found in y_true, recall is set to one for all thresholds.\n",
      "  warnings.warn(\n",
      "/media/toma/2TB_30May2023/OBJECT_DETECTION_L/object_detection/.venv/lib/python3.9/site-packages/sklearn/metrics/_ranking.py:891: UserWarning: No positive class found in y_true, recall is set to one for all thresholds.\n",
      "  warnings.warn(\n",
      "/media/toma/2TB_30May2023/OBJECT_DETECTION_L/object_detection/.venv/lib/python3.9/site-packages/sklearn/metrics/_ranking.py:891: UserWarning: No positive class found in y_true, recall is set to one for all thresholds.\n",
      "  warnings.warn(\n",
      "/media/toma/2TB_30May2023/OBJECT_DETECTION_L/object_detection/.venv/lib/python3.9/site-packages/sklearn/metrics/_ranking.py:891: UserWarning: No positive class found in y_true, recall is set to one for all thresholds.\n",
      "  warnings.warn(\n",
      "/media/toma/2TB_30May2023/OBJECT_DETECTION_L/object_detection/.venv/lib/python3.9/site-packages/sklearn/metrics/_ranking.py:891: UserWarning: No positive class found in y_true, recall is set to one for all thresholds.\n",
      "  warnings.warn(\n",
      "/media/toma/2TB_30May2023/OBJECT_DETECTION_L/object_detection/.venv/lib/python3.9/site-packages/sklearn/metrics/_ranking.py:891: UserWarning: No positive class found in y_true, recall is set to one for all thresholds.\n",
      "  warnings.warn(\n",
      "/media/toma/2TB_30May2023/OBJECT_DETECTION_L/object_detection/.venv/lib/python3.9/site-packages/sklearn/metrics/_ranking.py:891: UserWarning: No positive class found in y_true, recall is set to one for all thresholds.\n",
      "  warnings.warn(\n",
      "/media/toma/2TB_30May2023/OBJECT_DETECTION_L/object_detection/.venv/lib/python3.9/site-packages/sklearn/metrics/_ranking.py:891: UserWarning: No positive class found in y_true, recall is set to one for all thresholds.\n",
      "  warnings.warn(\n"
     ]
    }
   ],
   "source": [
    "from sklearn.metrics import average_precision_score\n",
    "from transformers import EvalPrediction\n",
    "\n",
    "\n",
    "def calculate_map(predictions, label_ids):\n",
    "\n",
    "    # Get true labels\n",
    "    labels = label_ids\n",
    "\n",
    "    # Calculate average precision for each class\n",
    "    average_precisions = []\n",
    "    num_classes = predictions.shape[1]\n",
    "    for class_idx in range(num_classes):\n",
    "\n",
    "        print(\"class {}:\".format(class_idx), average_precision_score(labels == class_idx, predictions[:, class_idx]))\n",
    "\n",
    "        average_precisions.append(average_precision_score(labels == class_idx, predictions[:, class_idx]))\n",
    "\n",
    "    # Calculate mean average precision (mAP)\n",
    "    map_score = sum(average_precisions) / num_classes\n",
    "\n",
    "    return map_score\n",
    "\n",
    "\n",
    "predictions = np.array([\n",
    "    [9, 4, 7, 8, 2, 0, 6, 5, 3, 1],\n",
    "    [9, 1, 7, 8, 0, 3, 2, 5, 6, 4],\n",
    "    [7, 0, 4, 8, 1, 6, 5, 2, 9, 3],\n",
    "    [0, 5, 7, 4, 9, 3, 2, 1, 8, 6],\n",
    "    [5, 9, 8, 2, 0, 7, 6, 3, 1, 4],\n",
    "]) # say, predictions in float\n",
    "\n",
    "# after argmax axis=1, result: [0 0 8 4 1]\n",
    "\n",
    "# references = np.array([3, 4, 0, 2, 1])\n",
    "\n",
    "references = np.array([0, 0, 8, 4, 1]) #(here, predictions == references)\n",
    "\n",
    "results = calculate_map(predictions=predictions, label_ids=references)\n",
    "print(results)\n"
   ]
  },
  {
   "cell_type": "code",
   "execution_count": null,
   "metadata": {},
   "outputs": [],
   "source": [
    "##### writing compute metrics function\n",
    "\n",
    "\n",
    "\n",
    "\n",
    "\n",
    "\n",
    "\n",
    "\n"
   ]
  },
  {
   "cell_type": "code",
   "execution_count": null,
   "metadata": {},
   "outputs": [],
   "source": [
    "##### sample evaluation script with focalnet tiny model online available"
   ]
  }
 ],
 "metadata": {
  "kernelspec": {
   "display_name": ".venv",
   "language": "python",
   "name": "python3"
  },
  "language_info": {
   "codemirror_mode": {
    "name": "ipython",
    "version": 3
   },
   "file_extension": ".py",
   "mimetype": "text/x-python",
   "name": "python",
   "nbconvert_exporter": "python",
   "pygments_lexer": "ipython3",
   "version": "3.9.0"
  },
  "orig_nbformat": 4
 },
 "nbformat": 4,
 "nbformat_minor": 2
}
