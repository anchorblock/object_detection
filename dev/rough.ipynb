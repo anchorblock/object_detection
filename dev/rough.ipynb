{
 "cells": [
  {
   "cell_type": "code",
   "execution_count": 2,
   "metadata": {},
   "outputs": [
    {
     "name": "stdout",
     "output_type": "stream",
     "text": [
      "imagenet/train\n",
      "123ff_11083.JPEG\n"
     ]
    }
   ],
   "source": [
    "import os\n",
    "\n",
    "path = \"imagenet/train/123ff_11083.JPEG\"\n",
    "\n",
    "(head, tail) = os.path.split(path)\n",
    "\n",
    "print(head)\n",
    "# Output: imagenet/train\n",
    "\n",
    "print(tail)\n",
    "# Output: 123ff_11083.JPEG\n"
   ]
  },
  {
   "cell_type": "code",
   "execution_count": 3,
   "metadata": {},
   "outputs": [
    {
     "name": "stdout",
     "output_type": "stream",
     "text": [
      "\n",
      "123ff_11083.JPEG\n"
     ]
    }
   ],
   "source": [
    "import os\n",
    "\n",
    "path = \"123ff_11083.JPEG\"\n",
    "\n",
    "(head, tail) = os.path.split(path)\n",
    "\n",
    "print(head)\n",
    "# Output: imagenet/train\n",
    "\n",
    "print(tail)\n",
    "# Output: 123ff_11083.JPEG"
   ]
  },
  {
   "cell_type": "code",
   "execution_count": 4,
   "metadata": {},
   "outputs": [
    {
     "name": "stdout",
     "output_type": "stream",
     "text": [
      "CLASS_ID: n01440764\n",
      "FILE_SERIAL: 10026\n"
     ]
    }
   ],
   "source": [
    "filename = \"n01440764_10026.JPEG\"\n",
    "\n",
    "# Split the filename based on underscore and dot\n",
    "split_filename = filename.split('_')\n",
    "\n",
    "# Extract the CLASS_ID and FILE_SERIAL\n",
    "class_id = split_filename[0]\n",
    "file_serial = split_filename[1].split('.')[0]\n",
    "\n",
    "print(\"CLASS_ID:\", class_id)\n",
    "print(\"FILE_SERIAL:\", file_serial)\n"
   ]
  },
  {
   "cell_type": "code",
   "execution_count": 5,
   "metadata": {},
   "outputs": [
    {
     "name": "stdout",
     "output_type": "stream",
     "text": [
      "Serial Number: 0\n"
     ]
    }
   ],
   "source": [
    "from collections import OrderedDict\n",
    "\n",
    "IMAGENET2012_CLASSES = OrderedDict([\n",
    "    ('n01440764', 'tench, Tinca tinca'),\n",
    "    ('n01443537', 'goldfish, Carassius auratus'),\n",
    "    ('n01484850', 'great white shark, white shark, man-eater, man-eating shark, Carcharodon carcharias')\n",
    "])\n",
    "\n",
    "class_id = 'n01440764'\n",
    "serial_number = list(IMAGENET2012_CLASSES.keys()).index(class_id)\n",
    "\n",
    "print(\"Serial Number:\", serial_number)\n"
   ]
  }
 ],
 "metadata": {
  "kernelspec": {
   "display_name": ".venv",
   "language": "python",
   "name": "python3"
  },
  "language_info": {
   "codemirror_mode": {
    "name": "ipython",
    "version": 3
   },
   "file_extension": ".py",
   "mimetype": "text/x-python",
   "name": "python",
   "nbconvert_exporter": "python",
   "pygments_lexer": "ipython3",
   "version": "3.9.0"
  },
  "orig_nbformat": 4
 },
 "nbformat": 4,
 "nbformat_minor": 2
}
