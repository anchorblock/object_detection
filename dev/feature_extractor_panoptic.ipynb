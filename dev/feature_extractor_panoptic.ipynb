{
 "cells": [
  {
   "cell_type": "code",
   "execution_count": 1,
   "metadata": {},
   "outputs": [
    {
     "name": "stdout",
     "output_type": "stream",
     "text": [
      "Updated Directory: /media/toma/2TB_30May2023/OBJECT_DETECTION_L/object_detection\n"
     ]
    }
   ],
   "source": [
    "import os\n",
    "\n",
    "# Change the current directory to root directory\n",
    "new_directory = \"../\"\n",
    "os.chdir(new_directory)\n",
    "\n",
    "# Verify the current directory has changed\n",
    "updated_directory = os.getcwd()\n",
    "print(\"Updated Directory:\", updated_directory)\n"
   ]
  },
  {
   "cell_type": "code",
   "execution_count": null,
   "metadata": {},
   "outputs": [
    {
     "ename": "",
     "evalue": "",
     "output_type": "error",
     "traceback": [
      "\u001b[1;31mFailed to start the Kernel. \n",
      "\u001b[1;31mUnable to start Kernel '.venv (Python 3.9.0)' due to a timeout waiting for the ports to get used. \n",
      "\u001b[1;31mView Jupyter <a href='command:jupyter.viewOutput'>log</a> for further details."
     ]
    }
   ],
   "source": [
    "import sys\n",
    "sys.path.append('./')\n",
    "\n",
    "from transformers import AutoImageProcessor, MaskFormerFeatureExtractor, MaskFormerForInstanceSegmentation\n",
    "from PIL import Image, ImageDraw\n",
    "import numpy as np\n",
    "import requests\n",
    "import torch"
   ]
  },
  {
   "cell_type": "code",
   "execution_count": null,
   "metadata": {},
   "outputs": [
    {
     "ename": "",
     "evalue": "",
     "output_type": "error",
     "traceback": [
      "\u001b[1;31mFailed to start the Kernel. \n",
      "\u001b[1;31mUnable to start Kernel '.venv (Python 3.9.0)' due to a timeout waiting for the ports to get used. \n",
      "\u001b[1;31mView Jupyter <a href='command:jupyter.viewOutput'>log</a> for further details."
     ]
    }
   ],
   "source": [
    "import os\n",
    "os.getcwd()"
   ]
  },
  {
   "cell_type": "code",
   "execution_count": null,
   "metadata": {},
   "outputs": [
    {
     "ename": "",
     "evalue": "",
     "output_type": "error",
     "traceback": [
      "\u001b[1;31mFailed to start the Kernel. \n",
      "\u001b[1;31mUnable to start Kernel '.venv (Python 3.9.0)' due to a timeout waiting for the ports to get used. \n",
      "\u001b[1;31mView Jupyter <a href='command:jupyter.viewOutput'>log</a> for further details."
     ]
    }
   ],
   "source": [
    "import numpy as np\n",
    "\n",
    "# Define two NumPy arrays\n",
    "arr1 = np.array([1, 2, 3])\n",
    "arr2 = np.array([4, 5, 6])\n",
    "\n",
    "# Multiply the arrays element-wise\n",
    "result = arr1 * arr2\n",
    "\n",
    "# Print the result\n",
    "print(result)\n",
    "\n",
    "result = result * 3 + result * 255 * 25554446666\n",
    "print(result)"
   ]
  },
  {
   "attachments": {},
   "cell_type": "markdown",
   "metadata": {},
   "source": [
    "### reproducing error"
   ]
  },
  {
   "cell_type": "code",
   "execution_count": null,
   "metadata": {},
   "outputs": [
    {
     "ename": "",
     "evalue": "",
     "output_type": "error",
     "traceback": [
      "\u001b[1;31mFailed to start the Kernel. \n",
      "\u001b[1;31mUnable to start Kernel '.venv (Python 3.9.0)' due to a timeout waiting for the ports to get used. \n",
      "\u001b[1;31mView Jupyter <a href='command:jupyter.viewOutput'>log</a> for further details."
     ]
    }
   ],
   "source": [
    "### reproducing error\n",
    "\n",
    "\n",
    "from PIL import Image, ImageDraw\n",
    "import numpy as np\n",
    "\n",
    "mask_path = \"data/coco_datasets/panoptic_val2017/000000039769.png\"\n",
    "\n",
    "mask = Image.open(mask_path)\n",
    "\n",
    "# Convert the mask image to a NumPy array\n",
    "mask_array = np.array(mask, dtype = np.int64)\n",
    "\n",
    "# Extract the red, green, and blue channels from the array\n",
    "red_channel = mask_array[:, :, 0]\n",
    "green_channel = mask_array[:, :, 1]\n",
    "blue_channel = mask_array[:, :, 2]\n",
    "\n",
    "print(red_channel)\n",
    "print(green_channel)\n",
    "print(blue_channel)\n",
    "\n",
    "# Calculate the value array using the provided formula\n",
    "mask_array = red_channel + green_channel * 256 + blue_channel * 256 * 256\n",
    "\n",
    "print(mask_array)\n",
    "\n",
    "\n",
    "all_labels = np.unique(mask_array)\n",
    "\n",
    "print(all_labels)\n",
    "\n",
    "# expected output: [0, 8222595, 8225432, 8798150, 14466198, 12821912, 10898909]\n"
   ]
  },
  {
   "attachments": {},
   "cell_type": "markdown",
   "metadata": {},
   "source": [
    "### main code"
   ]
  },
  {
   "cell_type": "code",
   "execution_count": null,
   "metadata": {},
   "outputs": [
    {
     "ename": "",
     "evalue": "",
     "output_type": "error",
     "traceback": [
      "\u001b[1;31mFailed to start the Kernel. \n",
      "\u001b[1;31mUnable to start Kernel '.venv (Python 3.9.0)' due to a timeout waiting for the ports to get used. \n",
      "\u001b[1;31mView Jupyter <a href='command:jupyter.viewOutput'>log</a> for further details."
     ]
    }
   ],
   "source": [
    "image_path = \"data/coco_datasets/val2017/000000039769.jpg\"\n",
    "mask_path = \"data/coco_datasets/panoptic_val2017/000000039769.png\"\n",
    "image = Image.open(image_path)\n",
    "mask = Image.open(mask_path)\n",
    "\n",
    "\n",
    "# load MaskFormer fine-tuned on COCO panoptic segmentation\n",
    "feature_extractor = MaskFormerFeatureExtractor.from_pretrained(\"facebook/maskformer-swin-tiny-coco\")\n",
    "model = MaskFormerForInstanceSegmentation.from_pretrained(\"facebook/maskformer-swin-tiny-coco\")\n",
    "\n",
    "\n",
    "# Convert the mask image to a NumPy array\n",
    "image = np.array(image)\n",
    "image = torch.from_numpy(image).permute(2, 0, 1)\n",
    "\n",
    "print(image.shape)\n",
    "\n",
    "\n",
    "mask_array = np.array(mask, dtype = np.int64)\n",
    "\n",
    "# Extract the red, green, and blue channels from the array\n",
    "red_channel = mask_array[:, :, 0]\n",
    "green_channel = mask_array[:, :, 1]\n",
    "blue_channel = mask_array[:, :, 2]\n",
    "\n",
    "# Calculate the value array using the provided formula\n",
    "mask_array = red_channel + green_channel * 256 + blue_channel * 256 * 256\n",
    "\n",
    "\n",
    "all_labels = np.unique(mask_array)\n",
    "\n",
    "print(all_labels)\n",
    "\n",
    "\n",
    "parsed_dict_from_json = {\n",
    "    \"segments_info\": [\n",
    "        {\"id\": 0, \"category_id\": 0, \"iscrowd\": 0, \"bbox\": [0, 0, 640, 480], \"area\": 2750},\n",
    "        {\"id\": 8222595, \"category_id\": 1, \"iscrowd\": 0, \"bbox\": [18, 54, 301, 415], \"area\": 53306}, \n",
    "        {\"id\": 8225432, \"category_id\": 2, \"iscrowd\": 0, \"bbox\": [349, 26, 291, 343], \"area\": 59627}, \n",
    "        {\"id\": 8798150, \"category_id\": 4, \"iscrowd\": 0, \"bbox\": [1, 0, 639, 474], \"area\": 174579}, \n",
    "        {\"id\": 14466198, \"category_id\": 7, \"iscrowd\": 0, \"bbox\": [42, 74, 133, 45], \"area\": 4068}, \n",
    "        {\"id\": 12821912, \"category_id\": 89, \"iscrowd\": 0, \"bbox\": [333, 80, 38, 106], \"area\": 2118}, \n",
    "        {\"id\": 10898909, \"category_id\": 58, \"iscrowd\": 0, \"bbox\": [0, 0, 640, 480], \"area\": 2750}\n",
    "        ], \n",
    "    \"file_name\": \"000000039769.png\", \n",
    "    \"image_id\": 39769}\n",
    "\n",
    "\n",
    "instance_id_to_semantic_id = {d[\"id\"] : d[\"category_id\"] for d in parsed_dict_from_json[\"segments_info\"]}\n",
    "print(instance_id_to_semantic_id)\n",
    "\n",
    "\n",
    "inputs_pre = feature_extractor(image)\n",
    "print(inputs_pre)\n",
    "\n",
    "inputs = feature_extractor.encode_inputs(\n",
    "                pixel_values_list=inputs_pre[\"pixel_values\"], \n",
    "                segmentation_maps=[mask_array],\n",
    "                instance_id_to_semantic_id=[instance_id_to_semantic_id],\n",
    "                return_tensors=\"pt\")\n",
    "\n",
    "\n",
    "print(inputs[\"pixel_values\"].shape)\n",
    "print(inputs[\"pixel_mask\"].shape)\n",
    "print(len(inputs[\"mask_labels\"]))\n",
    "print(inputs[\"mask_labels\"][0].shape)\n",
    "print(len(inputs[\"class_labels\"]))\n",
    "print(inputs[\"class_labels\"][0].shape)\n",
    "\n",
    "\n",
    "outputs = model(**inputs)\n",
    "\n",
    "\n",
    "print(outputs)\n",
    "# print(outputs.loss)\n",
    "# print(outputs.loss)\n"
   ]
  }
 ],
 "metadata": {
  "kernelspec": {
   "display_name": ".venv",
   "language": "python",
   "name": "python3"
  },
  "language_info": {
   "codemirror_mode": {
    "name": "ipython",
    "version": 3
   },
   "file_extension": ".py",
   "mimetype": "text/x-python",
   "name": "python",
   "nbconvert_exporter": "python",
   "pygments_lexer": "ipython3",
   "version": "3.9.0"
  },
  "orig_nbformat": 4
 },
 "nbformat": 4,
 "nbformat_minor": 2
}
