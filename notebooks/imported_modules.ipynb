{
 "cells": [
  {
   "cell_type": "code",
   "execution_count": null,
   "metadata": {},
   "outputs": [],
   "source": [
    "import os\n",
    "\n",
    "# Change the current directory to root directory\n",
    "new_directory = \"../\"\n",
    "os.chdir(new_directory)\n",
    "\n",
    "# Verify the current directory has changed\n",
    "updated_directory = os.getcwd()\n",
    "print(\"Updated Directory:\", updated_directory)"
   ]
  },
  {
   "cell_type": "code",
   "execution_count": null,
   "metadata": {},
   "outputs": [],
   "source": [
    "from transformers.models.mask2former import *\n",
    "import sys\n",
    "\n",
    "# Get all imported and present module names\n",
    "imported_modules = [name for name in dir() if isinstance(eval(name), type(sys))]\n",
    "print(\"Imported modules:\")\n",
    "print(imported_modules)\n",
    "\n",
    "# Get all imported and present function names\n",
    "imported_functions = [name for name in dir() if callable(eval(name))]\n",
    "print(\"\\nImported functions:\")\n",
    "print(imported_functions)\n",
    "\n",
    "# Get all imported and present class names\n",
    "imported_classes = [name for name in dir() if isinstance(eval(name), type)]\n",
    "print(\"\\nImported classes:\")\n",
    "print(imported_classes)\n"
   ]
  }
 ],
 "metadata": {
  "language_info": {
   "name": "python"
  },
  "orig_nbformat": 4
 },
 "nbformat": 4,
 "nbformat_minor": 2
}
