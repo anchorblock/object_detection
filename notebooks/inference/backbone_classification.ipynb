{
 "cells": [
  {
   "cell_type": "code",
   "execution_count": 1,
   "metadata": {},
   "outputs": [
    {
     "name": "stdout",
     "output_type": "stream",
     "text": [
      "Updated Directory: /media/toma/2TB_30May2023/OBJECT_DETECTION_L/object_detection\n"
     ]
    }
   ],
   "source": [
    "import os\n",
    "\n",
    "# Change the current directory to root directory\n",
    "new_directory = \"../../\"\n",
    "os.chdir(new_directory)\n",
    "\n",
    "# Verify the current directory has changed\n",
    "updated_directory = os.getcwd()\n",
    "print(\"Updated Directory:\", updated_directory)"
   ]
  },
  {
   "attachments": {},
   "cell_type": "markdown",
   "metadata": {},
   "source": [
    "#### Inference with Backbones"
   ]
  },
  {
   "cell_type": "code",
   "execution_count": null,
   "metadata": {},
   "outputs": [],
   "source": [
    "from PIL import Image\n",
    "import requests\n",
    "from io import BytesIO\n",
    "import matplotlib.pyplot as plt\n",
    "\n",
    "from transformers import AutoImageProcessor, pipeline\n",
    "from utils.augmentations import generate_transform_function\n",
    "\n",
    "# picture of a baby golden retriver\n",
    "IMG_URL = \"https://t4.ftcdn.net/jpg/05/68/28/05/360_F_568280532_Bvxwd66M3Y22vVeJ3VRqHRAqrdNfJo7o.jpg\" # change\n",
    "\n",
    "pretrained_model_name_or_path = \"microsoft/focalnet-tiny\" # change\n",
    "\n",
    "response = requests.get(IMG_URL)\n",
    "image = Image.open(BytesIO(response.content))\n",
    "\n",
    "classifier = pipeline(\"image-classification\", model=pretrained_model_name_or_path)\n",
    "\n",
    "classifier(image)\n",
    "\n",
    "# output:\n",
    "# [{'score': 0.9616713523864746, 'label': 'golden retriever'},\n",
    "#  {'score': 0.004097872879356146, 'label': 'Labrador retriever'},\n",
    "#  {'score': 0.001239714794792235, 'label': 'flat-coated retriever'},\n",
    "#  {'score': 0.0010671772761270404, 'label': 'tennis ball'},\n",
    "#  {'score': 0.0008922729175537825, 'label': 'kuvasz'}]"
   ]
  }
 ],
 "metadata": {
  "kernelspec": {
   "display_name": "base",
   "language": "python",
   "name": "python3"
  },
  "language_info": {
   "codemirror_mode": {
    "name": "ipython",
    "version": 3
   },
   "file_extension": ".py",
   "mimetype": "text/x-python",
   "name": "python",
   "nbconvert_exporter": "python",
   "pygments_lexer": "ipython3",
   "version": "3.9.13"
  },
  "orig_nbformat": 4
 },
 "nbformat": 4,
 "nbformat_minor": 2
}
